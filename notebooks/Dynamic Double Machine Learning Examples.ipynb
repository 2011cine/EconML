{
 "cells": [
  {
   "cell_type": "markdown",
   "metadata": {},
   "source": [
    "<table border=\"0\">\n",
    "    <tr>\n",
    "        <td>\n",
    "            <img src=\"https://ictd2016.files.wordpress.com/2016/04/microsoft-research-logo-copy.jpg\" style=\"width 30px;\" />\n",
    "             </td>\n",
    "        <td>\n",
    "            <img src=\"https://www.microsoft.com/en-us/research/wp-content/uploads/2016/12/MSR-ALICE-HeaderGraphic-1920x720_1-800x550.jpg\" style=\"width 100px;\"/></td>\n",
    "        </tr>\n",
    "</table>"
   ]
  },
  {
   "cell_type": "markdown",
   "metadata": {},
   "source": [
    "# Dynamic Double Machine Learning: Use Cases and Examples\n",
    "\n",
    "Dynamic DoubleML is an extension of the Double ML approach for treatments assigned sequentially over time periods. This estimator will account for treatments that can have causal effects on future outcomes. For more details, see [this paper](https://arxiv.org/abs/2002.07285) or the [EconML docummentation](https://econml.azurewebsites.net/).\n",
    "\n",
    "For example, the Dynamic DoubleML could be useful in estimating the following causal effects:\n",
    "* the effect of investments on revenue at companies that receive investments at regular intervals ([see more](https://arxiv.org/abs/2103.08390))\n",
    "* the effect of prices on demand in stores where prices of goods change over time\n",
    "* the effect of income on health outcomes in people who receive yearly income\n",
    "\n",
    "The expected data format is balanced panel data. Each panel corresponds to one entity (e.g. company, store or person) and the different rows in a panel correspond to different time points. Example:\n",
    "\n",
    "||Company|Year|Features|Investment|Revenue|\n",
    "|---|---|---|---|---|---|\n",
    "|1|A|2018|...|\\$1,000|\\$10,000|\n",
    "|2|A|2019|...|\\$2,000|\\$12,000|\n",
    "|3|A|2020|...|\\$3,000|\\$15,000|\n",
    "|4|B|2018|...|\\$0|\\$5,000|\n",
    "|5|B|2019|...|\\$100|\\$10,000|\n",
    "|6|B|2020|...|\\$1,200|\\$7,000|\n",
    "|7|C|2018|...|\\$1,000|\\$20,000|\n",
    "|8|C|2019|...|\\$1,500|\\$25,000|\n",
    "|9|C|2020|...|\\$500|\\$15,000|\n",
    "\n",
    "(Note: when passing the data to the DynamicDML estimator, the \"Company\" column above corresponds to the `groups` argument at fit time. The \"Year\" column above should not be passed in as it will be inferred from the \"Company\" column)\n",
    "\n",
    "\n",
    "In this notebook, we show the performance of the DynamicDML on synthetic and observational data. \n",
    "\n",
    "## Notebook Contents\n",
    "\n",
    "1. [Example Usage with Average Treatment Effects](#1.-Example-Usage-with-Average-Treatment-Effects)\n",
    "2. [Example Usage with Heterogeneous Treatment Effects](#2.-Example-Usage-with-Heterogeneous-Treatment-Effects)"
   ]
  },
  {
   "cell_type": "code",
   "execution_count": 1,
   "metadata": {},
   "outputs": [],
   "source": [
    "import econml"
   ]
  },
  {
   "cell_type": "code",
   "execution_count": 2,
   "metadata": {},
   "outputs": [],
   "source": [
    "# Main imports\n",
    "from econml.dml import DynamicDML\n",
    "from econml.tests.dgp import DynamicPanelDGP\n",
    "\n",
    "# Helper imports\n",
    "import numpy as np\n",
    "from sklearn.linear_model import Lasso, LassoCV, LogisticRegression, LogisticRegressionCV, MultiTaskLassoCV\n",
    "import matplotlib.pyplot as plt\n",
    "\n",
    "%matplotlib inline"
   ]
  },
  {
   "cell_type": "markdown",
   "metadata": {},
   "source": [
    "# 1. Example Usage with Average Treatment Effects"
   ]
  },
  {
   "cell_type": "markdown",
   "metadata": {},
   "source": [
    "## 1.1 DGP\n",
    "\n",
    "We consider a data generating process from a markovian treatment model. \n",
    "\n",
    "In the example bellow, $T_t\\rightarrow$ treatment(s) at time $t$, $Y_t\\rightarrow$outcome at time $t$, $X_t\\rightarrow$ features and controls at time $t$ (the coefficients $e, f'$ will pick the features and the controls).\n",
    "\\begin{align}\n",
    "    X_t =& (\\pi'X_{t-1} + 1) \\cdot A\\, T_{t-1} + B X_{t-1} + \\epsilon_t\\\\\n",
    "    T_t =& \\gamma\\, T_{t-1} + (1-\\gamma) \\cdot D X_t + \\zeta_t\\\\\n",
    "    Y_t =& (\\sigma' X_{t} + 1) \\cdot e\\, T_{t} + f X_t + \\eta_t\n",
    "\\end{align}\n",
    "\n",
    "with $X_0, T_0 = 0$ and $\\epsilon_t, \\zeta_t, \\eta_t \\sim N(0, \\sigma^2)$. Moreover, $X_t \\in R^{n_x}$, $B[:, 0:s_x] \\neq 0$ and $B[:, s_x:-1] = 0$, $\\gamma\\in [0, 1]$, $D[:, 0:s_x] \\neq 0$, $D[:, s_x:-1]=0$, $f[0:s_x]\\neq 0$, $f[s_x:-1]=0$. We draw a single time series of samples of length $n\\_panels \\cdot n\\_periods$."
   ]
  },
  {
   "cell_type": "code",
   "execution_count": 3,
   "metadata": {},
   "outputs": [],
   "source": [
    "# Define DGP parameters\n",
    "np.random.seed(123)\n",
    "n_panels = 400 # number of panels\n",
    "n_periods = 3 # number of time periods in each panel\n",
    "n_treatments = 1 # number of treatments in each period\n",
    "n_x = 100 # number of features + controls\n",
    "s_x = 10 # number of controls (endogeneous variables)\n",
    "s_t = 10 # treatment support size"
   ]
  },
  {
   "cell_type": "code",
   "execution_count": 4,
   "metadata": {},
   "outputs": [],
   "source": [
    "# Generate data\n",
    "dgp = DynamicPanelDGP(n_periods, n_treatments, n_x).create_instance(\n",
    "            s_x, random_seed=12345)\n",
    "Y, T, X, W, groups = dgp.observational_data(n_panels, s_t=s_t, random_seed=12345)\n",
    "true_effect = dgp.true_effect"
   ]
  },
  {
   "cell_type": "markdown",
   "metadata": {},
   "source": [
    "## 1.2 Train Estimator"
   ]
  },
  {
   "cell_type": "code",
   "execution_count": 5,
   "metadata": {},
   "outputs": [],
   "source": [
    "alpha_regs = [1e-4, 1e-3, 1e-2, 5e-2, .1, 1]"
   ]
  },
  {
   "cell_type": "code",
   "execution_count": 6,
   "metadata": {},
   "outputs": [],
   "source": [
    "est = DynamicDML(\n",
    "    model_y=LassoCV(cv=3, alphas=alpha_regs, tol=1e-2), \n",
    "    model_t=MultiTaskLassoCV(cv=3, alphas=alpha_regs, tol=1e-2), \n",
    "    cv=3)"
   ]
  },
  {
   "cell_type": "code",
   "execution_count": 7,
   "metadata": {
    "scrolled": true
   },
   "outputs": [
    {
     "data": {
      "text/plain": [
       "<econml.dml.dynamic_dml.DynamicDML at 0x2644806e808>"
      ]
     },
     "execution_count": 7,
     "metadata": {},
     "output_type": "execute_result"
    }
   ],
   "source": [
    "est.fit(Y, T, X=None, W=W, groups=groups, inference=\"auto\")"
   ]
  },
  {
   "cell_type": "code",
   "execution_count": 8,
   "metadata": {},
   "outputs": [
    {
     "name": "stdout",
     "output_type": "stream",
     "text": [
      "Average effect of default policy: 2.26\n"
     ]
    }
   ],
   "source": [
    "# Average treatment effect of all periods on last period for unit treatments\n",
    "print(f\"Average effect of default policy: {est.ate():0.2f}\")"
   ]
  },
  {
   "cell_type": "code",
   "execution_count": 9,
   "metadata": {},
   "outputs": [
    {
     "name": "stdout",
     "output_type": "stream",
     "text": [
      "Effect of target policy over baseline policy: 4.33\n"
     ]
    }
   ],
   "source": [
    "# Effect of target policy over baseline policy\n",
    "# Must specify a treatment for each period\n",
    "baseline_policy = np.zeros((1, n_periods))\n",
    "target_policy = np.array([[1, 2, 3]])\n",
    "eff = est.effect(T0=baseline_policy, T1=target_policy)\n",
    "print(f\"Effect of target policy over baseline policy: {eff[0]:0.2f}\")"
   ]
  },
  {
   "cell_type": "code",
   "execution_count": 10,
   "metadata": {},
   "outputs": [
    {
     "name": "stdout",
     "output_type": "stream",
     "text": [
      "Effect of a treatment in period 1 on period 3 outcome: 0.71\n",
      "Effect of a treatment in period 2 on period 3 outcome: 1.03\n",
      "Effect of a treatment in period 3 on period 3 outcome: 0.52\n"
     ]
    }
   ],
   "source": [
    "# Period treatment effects + interpretation\n",
    "for i, theta in enumerate(est.intercept_):\n",
    "    print(f\"Effect of a treatment in period {i+1} on period {n_periods} outcome: {theta:0.2f}\")"
   ]
  },
  {
   "cell_type": "code",
   "execution_count": 11,
   "metadata": {},
   "outputs": [
    {
     "name": "stdout",
     "output_type": "stream",
     "text": [
      "Coefficient Results:  X is None, please call intercept_inference to learn the constant!\n"
     ]
    },
    {
     "data": {
      "text/html": [
       "<table class=\"simpletable\">\n",
       "<caption>CATE Intercept Results</caption>\n",
       "<tr>\n",
       "             <td></td>             <th>point_estimate</th> <th>stderr</th>  <th>zstat</th> <th>pvalue</th> <th>ci_lower</th> <th>ci_upper</th>\n",
       "</tr>\n",
       "<tr>\n",
       "  <th>cate_intercept|$(T0)_0$</th>      <td>0.711</td>      <td>0.041</td> <td>17.224</td>   <td>0.0</td>    <td>0.643</td>    <td>0.779</td> \n",
       "</tr>\n",
       "<tr>\n",
       "  <th>cate_intercept|$(T0)_1$</th>      <td>1.031</td>       <td>0.1</td>  <td>10.306</td>   <td>0.0</td>    <td>0.866</td>    <td>1.195</td> \n",
       "</tr>\n",
       "<tr>\n",
       "  <th>cate_intercept|$(T0)_2$</th>      <td>0.518</td>      <td>0.139</td>  <td>3.739</td>   <td>0.0</td>    <td>0.29</td>     <td>0.746</td> \n",
       "</tr>\n",
       "</table><br/><br/><sub>A linear parametric conditional average treatment effect (CATE) model was fitted:<br/>$Y = \\Theta(X)\\cdot T + g(X, W) + \\epsilon$<br/>where for every outcome $i$ and treatment $j$ the CATE $\\Theta_{ij}(X)$ has the form:<br/>$\\Theta_{ij}(X) = \\phi(X)' coef_{ij} + cate\\_intercept_{ij}$<br/>where $\\phi(X)$ is the output of the `featurizer` or $X$ if `featurizer`=None. Coefficient Results table portrays the $coef_{ij}$ parameter vector for each outcome $i$ and treatment $j$. Intercept Results table portrays the $cate\\_intercept_{ij}$ parameter.</sub>"
      ],
      "text/plain": [
       "<class 'econml.utilities.Summary'>\n",
       "\"\"\"\n",
       "                            CATE Intercept Results                           \n",
       "=============================================================================\n",
       "                        point_estimate stderr zstat  pvalue ci_lower ci_upper\n",
       "-----------------------------------------------------------------------------\n",
       "cate_intercept|$(T0)_0$          0.711  0.041 17.224    0.0    0.643    0.779\n",
       "cate_intercept|$(T0)_1$          1.031    0.1 10.306    0.0    0.866    1.195\n",
       "cate_intercept|$(T0)_2$          0.518  0.139  3.739    0.0     0.29    0.746\n",
       "-----------------------------------------------------------------------------\n",
       "\n",
       "<sub>A linear parametric conditional average treatment effect (CATE) model was fitted:\n",
       "$Y = \\Theta(X)\\cdot T + g(X, W) + \\epsilon$\n",
       "where for every outcome $i$ and treatment $j$ the CATE $\\Theta_{ij}(X)$ has the form:\n",
       "$\\Theta_{ij}(X) = \\phi(X)' coef_{ij} + cate\\_intercept_{ij}$\n",
       "where $\\phi(X)$ is the output of the `featurizer` or $X$ if `featurizer`=None. Coefficient Results table portrays the $coef_{ij}$ parameter vector for each outcome $i$ and treatment $j$. Intercept Results table portrays the $cate\\_intercept_{ij}$ parameter.</sub>\n",
       "\"\"\""
      ]
     },
     "execution_count": 11,
     "metadata": {},
     "output_type": "execute_result"
    }
   ],
   "source": [
    "# Period treatment effects with confidence intervals\n",
    "est.summary()"
   ]
  },
  {
   "cell_type": "code",
   "execution_count": 12,
   "metadata": {},
   "outputs": [],
   "source": [
    "conf_ints = est.intercept__interval(alpha=0.05)"
   ]
  },
  {
   "cell_type": "markdown",
   "metadata": {},
   "source": [
    "## 1.3 Performance Visualization"
   ]
  },
  {
   "cell_type": "code",
   "execution_count": 13,
   "metadata": {},
   "outputs": [
    {
     "data": {
      "image/png": "[encoded data removed]",
      "text/plain": [
       "<Figure size 1080x360 with 1 Axes>"
      ]
     },
     "metadata": {
      "needs_background": "light"
     },
     "output_type": "display_data"
    }
   ],
   "source": [
    "# Some plotting boilerplate code\n",
    "plt.figure(figsize=(15, 5))\n",
    "plt.errorbar(np.arange(n_periods*n_treatments)-.04, est.intercept_, yerr=(conf_ints[1] - est.intercept_,\n",
    "                                                    est.intercept_ - conf_ints[0]), fmt='o', label='DynamicDML')\n",
    "plt.errorbar(np.arange(n_periods*n_treatments), true_effect.flatten(), fmt='o', alpha=.6, label='Ground truth')\n",
    "for t in np.arange(1, n_periods):\n",
    "    plt.axvline(x=t * n_treatments - .5, linestyle='--', alpha=.4)\n",
    "plt.xticks([t * n_treatments - .5 + n_treatments/2 for t in range(n_periods)],\n",
    "           [\"$\\\\theta_{}$\".format(t) for t in range(n_periods)])\n",
    "plt.gca().set_xlim([-.5, n_periods*n_treatments - .5])\n",
    "plt.ylabel(\"Effect\")\n",
    "plt.legend()\n",
    "plt.show()"
   ]
  },
  {
   "cell_type": "markdown",
   "metadata": {},
   "source": [
    "# 2. Example Usage with Heterogeneous Treatment Effects"
   ]
  },
  {
   "cell_type": "markdown",
   "metadata": {},
   "source": [
    "## 2.1 DGP"
   ]
  },
  {
   "cell_type": "code",
   "execution_count": 14,
   "metadata": {},
   "outputs": [],
   "source": [
    "# Define additional DGP parameters\n",
    "het_strength = .5\n",
    "het_inds = np.arange(n_x - n_treatments, n_x)"
   ]
  },
  {
   "cell_type": "code",
   "execution_count": 15,
   "metadata": {},
   "outputs": [],
   "source": [
    "# Generate data\n",
    "dgp = DynamicPanelDGP(n_periods, n_treatments, n_x).create_instance(\n",
    "            s_x, hetero_strength=het_strength, hetero_inds=het_inds, random_seed=12)\n",
    "Y, T, X, W, groups = dgp.observational_data(n_panels, s_t=s_t, random_seed=1)\n",
    "ate_effect = dgp.true_effect\n",
    "het_effect = dgp.true_hetero_effect[:, het_inds + 1]"
   ]
  },
  {
   "cell_type": "markdown",
   "metadata": {},
   "source": [
    "## 2.2 Train Estimator"
   ]
  },
  {
   "cell_type": "code",
   "execution_count": 16,
   "metadata": {},
   "outputs": [],
   "source": [
    "est = DynamicDML(\n",
    "    model_y=LassoCV(cv=3, alphas=alpha_regs, tol=1e-2), \n",
    "    model_t=MultiTaskLassoCV(cv=3, alphas=alpha_regs, tol=1e-2), \n",
    "    cv=3)"
   ]
  },
  {
   "cell_type": "code",
   "execution_count": 17,
   "metadata": {
    "scrolled": true
   },
   "outputs": [
    {
     "name": "stderr",
     "output_type": "stream",
     "text": [
      "Objective did not converge. You might want to increase the number of iterations. Duality gap: 2.6550941575656566, tolerance: 1.6272718134380235\n"
     ]
    },
    {
     "data": {
      "text/plain": [
       "<econml.dml.dynamic_dml.DynamicDML at 0x2644853cd08>"
      ]
     },
     "execution_count": 17,
     "metadata": {},
     "output_type": "execute_result"
    }
   ],
   "source": [
    "est.fit(Y, T, X=X, W=W, groups=groups, inference=\"auto\")"
   ]
  },
  {
   "cell_type": "code",
   "execution_count": 18,
   "metadata": {},
   "outputs": [
    {
     "data": {
      "text/html": [
       "<table class=\"simpletable\">\n",
       "<caption>Coefficient Results</caption>\n",
       "<tr>\n",
       "       <td></td>       <th>point_estimate</th> <th>stderr</th>  <th>zstat</th> <th>pvalue</th> <th>ci_lower</th> <th>ci_upper</th>\n",
       "</tr>\n",
       "<tr>\n",
       "  <th>X0|$(T0)_0$</th>      <td>0.394</td>      <td>0.103</td>  <td>3.838</td>   <td>0.0</td>    <td>0.225</td>    <td>0.563</td> \n",
       "</tr>\n",
       "<tr>\n",
       "  <th>X0|$(T0)_1$</th>     <td>-0.066</td>      <td>0.192</td> <td>-0.343</td>  <td>0.732</td>  <td>-0.382</td>    <td>0.25</td>  \n",
       "</tr>\n",
       "<tr>\n",
       "  <th>X0|$(T0)_2$</th>      <td>0.04</td>       <td>0.201</td>  <td>0.198</td>  <td>0.843</td>  <td>-0.291</td>    <td>0.37</td>  \n",
       "</tr>\n",
       "</table>\n",
       "<table class=\"simpletable\">\n",
       "<caption>CATE Intercept Results</caption>\n",
       "<tr>\n",
       "             <td></td>             <th>point_estimate</th> <th>stderr</th>  <th>zstat</th> <th>pvalue</th> <th>ci_lower</th> <th>ci_upper</th>\n",
       "</tr>\n",
       "<tr>\n",
       "  <th>cate_intercept|$(T0)_0$</th>      <td>0.579</td>      <td>0.052</td> <td>11.242</td>   <td>0.0</td>    <td>0.495</td>    <td>0.664</td> \n",
       "</tr>\n",
       "<tr>\n",
       "  <th>cate_intercept|$(T0)_1$</th>      <td>0.032</td>      <td>0.086</td>  <td>0.379</td>  <td>0.704</td>  <td>-0.108</td>    <td>0.173</td> \n",
       "</tr>\n",
       "<tr>\n",
       "  <th>cate_intercept|$(T0)_2$</th>     <td>-0.098</td>      <td>0.093</td> <td>-1.049</td>  <td>0.294</td>  <td>-0.251</td>    <td>0.055</td> \n",
       "</tr>\n",
       "</table><br/><br/><sub>A linear parametric conditional average treatment effect (CATE) model was fitted:<br/>$Y = \\Theta(X)\\cdot T + g(X, W) + \\epsilon$<br/>where for every outcome $i$ and treatment $j$ the CATE $\\Theta_{ij}(X)$ has the form:<br/>$\\Theta_{ij}(X) = \\phi(X)' coef_{ij} + cate\\_intercept_{ij}$<br/>where $\\phi(X)$ is the output of the `featurizer` or $X$ if `featurizer`=None. Coefficient Results table portrays the $coef_{ij}$ parameter vector for each outcome $i$ and treatment $j$. Intercept Results table portrays the $cate\\_intercept_{ij}$ parameter.</sub>"
      ],
      "text/plain": [
       "<class 'econml.utilities.Summary'>\n",
       "\"\"\"\n",
       "                       Coefficient Results                       \n",
       "=================================================================\n",
       "            point_estimate stderr zstat  pvalue ci_lower ci_upper\n",
       "-----------------------------------------------------------------\n",
       "X0|$(T0)_0$          0.394  0.103  3.838    0.0    0.225    0.563\n",
       "X0|$(T0)_1$         -0.066  0.192 -0.343  0.732   -0.382     0.25\n",
       "X0|$(T0)_2$           0.04  0.201  0.198  0.843   -0.291     0.37\n",
       "                            CATE Intercept Results                           \n",
       "=============================================================================\n",
       "                        point_estimate stderr zstat  pvalue ci_lower ci_upper\n",
       "-----------------------------------------------------------------------------\n",
       "cate_intercept|$(T0)_0$          0.579  0.052 11.242    0.0    0.495    0.664\n",
       "cate_intercept|$(T0)_1$          0.032  0.086  0.379  0.704   -0.108    0.173\n",
       "cate_intercept|$(T0)_2$         -0.098  0.093 -1.049  0.294   -0.251    0.055\n",
       "-----------------------------------------------------------------------------\n",
       "\n",
       "<sub>A linear parametric conditional average treatment effect (CATE) model was fitted:\n",
       "$Y = \\Theta(X)\\cdot T + g(X, W) + \\epsilon$\n",
       "where for every outcome $i$ and treatment $j$ the CATE $\\Theta_{ij}(X)$ has the form:\n",
       "$\\Theta_{ij}(X) = \\phi(X)' coef_{ij} + cate\\_intercept_{ij}$\n",
       "where $\\phi(X)$ is the output of the `featurizer` or $X$ if `featurizer`=None. Coefficient Results table portrays the $coef_{ij}$ parameter vector for each outcome $i$ and treatment $j$. Intercept Results table portrays the $cate\\_intercept_{ij}$ parameter.</sub>\n",
       "\"\"\""
      ]
     },
     "execution_count": 18,
     "metadata": {},
     "output_type": "execute_result"
    }
   ],
   "source": [
    "est.summary()"
   ]
  },
  {
   "cell_type": "code",
   "execution_count": 19,
   "metadata": {},
   "outputs": [
    {
     "name": "stdout",
     "output_type": "stream",
     "text": [
      "Average effect of default policy:0.48\n"
     ]
    }
   ],
   "source": [
    "# Average treatment effect for test points\n",
    "X_test = X[:10]\n",
    "print(f\"Average effect of default policy:{est.ate(X=X_test):0.2f}\")"
   ]
  },
  {
   "cell_type": "code",
   "execution_count": 20,
   "metadata": {},
   "outputs": [
    {
     "name": "stdout",
     "output_type": "stream",
     "text": [
      "Effect of target policy over baseline policy for test set:\n",
      " [ 0.48463458  0.52974258  0.21137445  0.36785476  0.37107783  0.6353013\n",
      " -0.08878165  0.17427563  0.45723001  0.06398282]\n"
     ]
    }
   ],
   "source": [
    "# Effect of target policy over baseline policy\n",
    "# Must specify a treatment for each period\n",
    "baseline_policy = np.zeros((1, n_periods))\n",
    "target_policy = np.array([[1, 2, 3]])\n",
    "eff = est.effect(X=X_test, T0=baseline_policy, T1=target_policy)\n",
    "print(\"Effect of target policy over baseline policy for test set:\\n\", eff)"
   ]
  },
  {
   "cell_type": "code",
   "execution_count": 21,
   "metadata": {},
   "outputs": [
    {
     "data": {
      "text/plain": [
       "(array([ 0.57932353,  0.03248502, -0.09764978]),\n",
       " array([[ 0.39429592],\n",
       "        [-0.06583129],\n",
       "        [ 0.03975663]]))"
      ]
     },
     "execution_count": 21,
     "metadata": {},
     "output_type": "execute_result"
    }
   ],
   "source": [
    "# Coefficients\n",
    "est.intercept_, est.coef_"
   ]
  },
  {
   "cell_type": "code",
   "execution_count": 22,
   "metadata": {},
   "outputs": [],
   "source": [
    "# Confidence intervals\n",
    "conf_ints_intercept = est.intercept__interval(alpha=0.05)\n",
    "conf_ints_coef = est.coef__interval(alpha=0.05)"
   ]
  },
  {
   "cell_type": "markdown",
   "metadata": {},
   "source": [
    "## 2.3 Performance Visualization"
   ]
  },
  {
   "cell_type": "code",
   "execution_count": 23,
   "metadata": {},
   "outputs": [
    {
     "data": {
      "image/png": "[encoded data removed]",
      "text/plain": [
       "<Figure size 1080x360 with 1 Axes>"
      ]
     },
     "metadata": {
      "needs_background": "light"
     },
     "output_type": "display_data"
    }
   ],
   "source": [
    "# Some plotting boilerplate code\n",
    "plt.figure(figsize=(15, 5))\n",
    "# Intercepts\n",
    "plt.errorbar((het_inds.shape[0]+1)*np.arange(n_periods*n_treatments), \n",
    "             est.intercept_, \n",
    "             yerr=(conf_ints_intercept[1] - est.intercept_, est.intercept_ - conf_ints_intercept[0]), \n",
    "             fmt='o', label='DynamicDML')\n",
    "plt.errorbar((het_inds.shape[0]+1)*np.arange(n_periods*n_treatments), ate_effect.flatten(), \n",
    "             fmt='o', label='Ground truth')\n",
    "# Heterogeneous effects\n",
    "plt.errorbar((het_inds.shape[0]+1)*np.arange(n_periods*n_treatments)+1, est.coef_, \n",
    "             yerr=((conf_ints_coef[1] - est.coef_).flatten(), \n",
    "                   (est.coef_ - conf_ints_coef[0]).flatten()), \n",
    "             fmt='o', color='C0')\n",
    "plt.errorbar((het_inds.shape[0]+1)*np.arange(n_periods*n_treatments)+1, het_effect, \n",
    "             fmt='o', color='C1')\n",
    "for t in np.arange(2, (het_inds.shape[0]+1)*n_periods, 2):\n",
    "    plt.axvline(x=t * n_treatments - .5, linestyle='--', alpha=.4)\n",
    "# Labels\n",
    "x_range = np.arange(n_periods*n_treatments*(het_inds.shape[0]+1))\n",
    "x_ticks = list(x_range)\n",
    "x_labels = [1 if i%(n_treatments+1)==0 else f\"$X_\\u007b{het_inds[i%(n_treatments+1)-1]}\\u007d$\" for i in x_range]\n",
    "x_ticks += [het_inds.shape[0]/2 + i*(n_treatments*(het_inds.shape[0]+1)) for i in range(n_periods)]\n",
    "x_labels += [f\"\\n\\n\\n$\\\\theta_{i}$\" for i in range(n_periods)]\n",
    "plt.xticks(x_ticks, x_labels)\n",
    "plt.ylabel(\"Effect\")\n",
    "plt.legend()\n",
    "plt.show()"
   ]
  }
 ],
 "metadata": {
  "kernelspec": {
   "display_name": "Python 3",
   "language": "python",
   "name": "python3"
  },
  "language_info": {
   "codemirror_mode": {
    "name": "ipython",
    "version": 3
   },
   "file_extension": ".py",
   "mimetype": "text/x-python",
   "name": "python",
   "nbconvert_exporter": "python",
   "pygments_lexer": "ipython3",
   "version": "3.7.6"
  }
 },
 "nbformat": 4,
 "nbformat_minor": 4
}
